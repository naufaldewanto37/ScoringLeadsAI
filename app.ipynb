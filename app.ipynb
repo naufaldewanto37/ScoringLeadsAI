{
 "cells": [
  {
   "cell_type": "code",
   "execution_count": 10,
   "id": "589d66d6",
   "metadata": {},
   "outputs": [],
   "source": [
    "import joblib, pandas as pd\n",
    "import numpy as np\n",
    "pipe = joblib.load(\"models/lead_scoring_pipeline_20250814-174851.joblib\")     # saved full pipeline\n",
    "df_in = pd.read_csv(\"b2b_leads_new.csv\")\n",
    "\n",
    "def clip_quantile(s, low=0.01, high=0.99):\n",
    "    ql, qh = s.quantile(low), s.quantile(high)\n",
    "    return s.clip(lower=ql, upper=qh)\n",
    "\n",
    "df_in = df_in[(df_in[\"RevenueUSD\"]>0) & (df_in[\"EmployeesCount\"]>0)]\n",
    "df_in[\"YearFounded\"] = df_in[\"YearFounded\"].clip(lower=1850, upper=2025)\n",
    "\n",
    "df_in[\"RevenueUSD_log\"]  = np.log1p(df_in[\"RevenueUSD\"])\n",
    "df_in[\"Employees_log\"]   = np.log1p(df_in[\"EmployeesCount\"])\n",
    "\n",
    "df_in[\"RevenueUSD_log\"]  = clip_quantile(df_in[\"RevenueUSD_log\"], 0.005, 0.995)\n",
    "df_in[\"Employees_log\"]   = clip_quantile(df_in[\"Employees_log\"],   0.005, 0.995)\n",
    "\n",
    "df_in[\"CompanyAge\"] = (2025 - df_in[\"YearFounded\"]).clip(lower=0)\n",
    "df_in[\"RevenueUSD_log\"] = (df_in[\"RevenueUSD_log\"] + 1).map(lambda x: np.log1p(x))\n",
    "df_in[\"Employees_log\"] = (df_in[\"Employees_log\"] + 1).map(lambda x: np.log1p(x))\n",
    "df_in[\"HasOwnerEmail\"] = df_in[\"OwnerEmail\"].notna().astype(int)\n",
    "df_in[\"HasOwnerPhone\"] = df_in[\"OwnerPhonesNumber\"].notna().astype(int)\n",
    "df_in[\"HasOwnerLinkedin\"] = df_in[\"OwnerLinkedin\"].notna().astype(int)\n",
    "\n",
    "proba = pipe.predict_proba(df_in)[:,1]\n",
    "df_in[\"Converted_Prob\"] = proba\n",
    "df_in[\"LeadScore\"] = (proba*100).round().astype(int)\n",
    "df_in[\"Bucket\"] = pd.cut(df_in[\"LeadScore\"], bins=[-1,60,80,100], labels=[\"C\",\"B\",\"A\"])\n",
    "df_in.to_csv(\"b2b_leads_scored.csv\", index=False)"
   ]
  }
 ],
 "metadata": {
  "kernelspec": {
   "display_name": "Python 3",
   "language": "python",
   "name": "python3"
  },
  "language_info": {
   "codemirror_mode": {
    "name": "ipython",
    "version": 3
   },
   "file_extension": ".py",
   "mimetype": "text/x-python",
   "name": "python",
   "nbconvert_exporter": "python",
   "pygments_lexer": "ipython3",
   "version": "3.13.6"
  }
 },
 "nbformat": 4,
 "nbformat_minor": 5
}
